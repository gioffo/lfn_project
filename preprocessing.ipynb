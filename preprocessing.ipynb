{
 "cells": [
  {
   "cell_type": "code",
   "execution_count": null,
   "metadata": {},
   "outputs": [],
   "source": [
    "import networkx as nx\n",
    "import graph_tool.all as gt"
   ]
  },
  {
   "cell_type": "markdown",
   "metadata": {},
   "source": [
    "## Preprocessing of datasets\n",
    "All datasets are converted from csv/edgelists to graphml format."
   ]
  },
  {
   "cell_type": "markdown",
   "metadata": {},
   "source": [
    "### Mouse visual cortex\n",
    "\n",
    "`data/mouse_vc.graphml`\n",
    "\n",
    "*Source*: [https://s3.amazonaws.com/connectome-graphs/mouse/mouse_visual.cortex_2.graphml]"
   ]
  },
  {
   "cell_type": "markdown",
   "metadata": {},
   "source": [
    "### Yeast gene regulatory network\n",
    "\n",
    "From `data/YRN.txt` to `data/yeast8k.graphml`\n",
    "\n",
    "*Source*: [http://archive.gersteinlab.org/proj/Hierarchy_Rewiring/PNAS_hier/YRN.txt]"
   ]
  },
  {
   "cell_type": "code",
   "execution_count": null,
   "metadata": {},
   "outputs": [],
   "source": [
    "G = nx.read_adjlist(path=\"data/YRN.txt\",delimiter=\"\\t\",nodetype=str,create_using=nx.DiGraph)\n",
    "nx.write_graphml(G,path=\"data/yeast8k.graphml\")"
   ]
  },
  {
   "cell_type": "markdown",
   "metadata": {},
   "source": [
    "### E. Coli gene regulatory network\n",
    "\n",
    "From `data/ERN.txt` to `data/ecoli2k.graphml`\n",
    "\n",
    "*Source*: [http://archive.gersteinlab.org/proj/Hierarchy_Rewiring/PNAS_hier/ERN.txt]"
   ]
  },
  {
   "cell_type": "code",
   "execution_count": null,
   "metadata": {},
   "outputs": [],
   "source": [
    "G = nx.read_adjlist(path=\"data/ERN.txt\",delimiter=\"\\t\",nodetype=str,create_using=nx.DiGraph)\n",
    "nx.write_graphml(G,path=\"data/ecoli2k.graphml\")"
   ]
  },
  {
   "cell_type": "markdown",
   "metadata": {},
   "source": [
    "### Facebook Ego Network\n",
    "\n",
    "From `data/facebook_combined.txt` to `data/fbego.graphml`\n",
    "\n",
    "*Source*: [http://snap.stanford.edu/data/facebook.tar.gz]\n"
   ]
  },
  {
   "cell_type": "code",
   "execution_count": null,
   "metadata": {},
   "outputs": [],
   "source": [
    "G = nx.read_adjlist(path=\"data/facebook_combined.txt\",delimiter=\"\\t\",nodetype=str,create_using=nx.DiGraph)\n",
    "nx.write_graphml(G,path=\"data/fbego.graphml\")"
   ]
  },
  {
   "cell_type": "markdown",
   "metadata": {},
   "source": [
    "### Bitcoin Alpha trust Network\n",
    "\n",
    "From `data/soc-sign-bitcoinalpha.csv.gz` to `data/bc.graphml`\n",
    "\n",
    "*Source*: [https://snap.stanford.edu/data/soc-sign-bitcoinalpha.csv.gz]\n"
   ]
  },
  {
   "cell_type": "code",
   "execution_count": null,
   "metadata": {},
   "outputs": [],
   "source": [
    "G = nx.read_adjlist(path=\"data/soc-sign-bitcoinalpha.csv.gz\",delimiter=\"\\t\",nodetype=str,create_using=nx.DiGraph)\n",
    "nx.write_graphml(G,path=\"data/bc.graphml\")"
   ]
  },
  {
   "cell_type": "markdown",
   "metadata": {},
   "source": [
    "### Python Dependency Network\n",
    "\n",
    "From `data/requirements.csv` to `data/pydep.graphml`\n",
    "\n",
    "*Source*: [http://kgullikson88.github.io/blog/Downloads/PypiDependencies/requirements.csv]\n"
   ]
  },
  {
   "cell_type": "code",
   "execution_count": null,
   "metadata": {},
   "outputs": [],
   "source": [
    "G = nx.read_adjlist(path=\"data/requirements.csv\",delimiter=\"\\t\",nodetype=str,create_using=nx.DiGraph)\n",
    "nx.write_graphml(G,path=\"data/pydep.graphml\")"
   ]
  }
 ],
 "metadata": {
  "kernelspec": {
   "display_name": "Python 3.6.9 64-bit",
   "language": "python",
   "name": "python3"
  },
  "language_info": {
   "name": "python",
   "version": "3.6.9"
  },
  "orig_nbformat": 4,
  "vscode": {
   "interpreter": {
    "hash": "31f2aee4e71d21fbe5cf8b01ff0e069b9275f58929596ceb00d14d90e3e16cd6"
   }
  }
 },
 "nbformat": 4,
 "nbformat_minor": 2
}
