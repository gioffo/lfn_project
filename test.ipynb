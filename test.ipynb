{
 "cells": [
  {
   "cell_type": "code",
   "execution_count": 2,
   "metadata": {},
   "outputs": [],
   "source": [
    "import networkx as nx\n",
    "import graph_tool.all as gt"
   ]
  },
  {
   "cell_type": "code",
   "execution_count": 44,
   "metadata": {},
   "outputs": [],
   "source": [
    "import math\n",
    "import matplotlib.pyplot as plt"
   ]
  },
  {
   "cell_type": "markdown",
   "metadata": {},
   "source": [
    "## Preprocessing of datasets\n",
    "All datasets are converted from csv/edgelists to graphml format."
   ]
  },
  {
   "cell_type": "markdown",
   "metadata": {},
   "source": [
    "### Mouse visual cortex\n",
    "\n",
    "`data/mouse_vc.graphml`\n",
    "\n",
    "*Source*: [https://s3.amazonaws.com/connectome-graphs/mouse/mouse_visual.cortex_2.graphml]"
   ]
  },
  {
   "cell_type": "markdown",
   "metadata": {},
   "source": [
    "### Yeast gene regulatory network\n",
    "\n",
    "From `data/YRN.txt` to `data/yeast8k.graphml`\n",
    "\n",
    "*Source*: [http://archive.gersteinlab.org/proj/Hierarchy_Rewiring/PNAS_hier/YRN.txt]"
   ]
  },
  {
   "cell_type": "code",
   "execution_count": 6,
   "metadata": {},
   "outputs": [],
   "source": [
    "G = nx.read_adjlist(path=\"data/YRN.txt\",delimiter=\"\\t\",nodetype=str,create_using=nx.DiGraph)\n",
    "nx.write_graphml(G,path=\"data/yeast8k.graphml\")"
   ]
  },
  {
   "cell_type": "markdown",
   "metadata": {},
   "source": [
    "### E. Coli gene regulatory network\n",
    "\n",
    "From `data/ERN.txt` to `data/ecoli2k.graphml`\n",
    "\n",
    "*Source*: [http://archive.gersteinlab.org/proj/Hierarchy_Rewiring/PNAS_hier/ERN.txt]"
   ]
  },
  {
   "cell_type": "code",
   "execution_count": 16,
   "metadata": {},
   "outputs": [],
   "source": [
    "G = nx.read_adjlist(path=\"data/ERN.txt\",delimiter=\"\\t\",nodetype=str,create_using=nx.DiGraph)\n",
    "nx.write_graphml(G,path=\"data/ecoli2k.graphml\")"
   ]
  },
  {
   "cell_type": "markdown",
   "metadata": {},
   "source": [
    "### Facebook Ego Network\n",
    "\n",
    "From `data/facebook_combined.txt` to `data/fbego.graphml`\n",
    "\n",
    "*Source*: [http://snap.stanford.edu/data/facebook.tar.gz]\n"
   ]
  },
  {
   "cell_type": "code",
   "execution_count": 17,
   "metadata": {},
   "outputs": [],
   "source": [
    "G = nx.read_adjlist(path=\"data/facebook_combined.txt\",delimiter=\"\\t\",nodetype=str,create_using=nx.DiGraph)\n",
    "nx.write_graphml(G,path=\"data/fbego.graphml\")"
   ]
  },
  {
   "cell_type": "markdown",
   "metadata": {},
   "source": [
    "### Bitcoin Alpha trust Network\n",
    "\n",
    "From `data/soc-sign-bitcoinalpha.csv.gz` to `data/bc.graphml`\n",
    "\n",
    "*Source*: [https://snap.stanford.edu/data/soc-sign-bitcoinalpha.csv.gz]\n"
   ]
  },
  {
   "cell_type": "code",
   "execution_count": 5,
   "metadata": {},
   "outputs": [],
   "source": [
    "G = nx.read_adjlist(path=\"data/soc-sign-bitcoinalpha.csv.gz\",delimiter=\",\",nodetype=str,create_using=nx.DiGraph)\n",
    "nx.write_graphml(G,path=\"data/bc.graphml\")"
   ]
  },
  {
   "cell_type": "markdown",
   "metadata": {},
   "source": [
    "### Python Dependency Network\n",
    "\n",
    "From `data/requirements.csv` to `data/pydep.graphml`\n",
    "\n",
    "*Source*: [http://kgullikson88.github.io/blog/Downloads/PypiDependencies/requirements.csv]\n"
   ]
  },
  {
   "cell_type": "code",
   "execution_count": 3,
   "metadata": {},
   "outputs": [],
   "source": [
    "G = nx.read_adjlist(path=\"data/requirements.csv\",delimiter=\",\",nodetype=str,create_using=nx.DiGraph)\n",
    "nx.write_graphml(G,path=\"data/pydep.graphml\")"
   ]
  },
  {
   "cell_type": "code",
   "execution_count": 22,
   "metadata": {},
   "outputs": [],
   "source": [
    "yeast_g = gt.load_graph(file_name=\"data/yeast8k.graphml\")\n",
    "ecoli_g = gt.load_graph(file_name=\"data/ecoli2k.graphml\")\n",
    "mouse_g = gt.load_graph(file_name=\"data/mouse_vc.graphml\")\n",
    "fbego_g = gt.load_graph(file_name=\"data/fbego.graphml\")\n",
    "bitc_g  = gt.load_graph(file_name=\"data/bc.graphml\")\n",
    "pydep_g = gt.load_graph(file_name=\"data/pydep.graphml\")"
   ]
  },
  {
   "cell_type": "code",
   "execution_count": 23,
   "metadata": {},
   "outputs": [],
   "source": [
    "no_self_yeast_g = yeast_g.copy()\n",
    "no_self_ecoli_g = ecoli_g.copy()\n",
    "no_self_mouse_g = mouse_g.copy()\n",
    "no_self_fbego_g = fbego_g.copy()\n",
    "no_self_bitc_g  = bitc_g.copy()\n",
    "no_self_pydep_g = pydep_g.copy()\n",
    "for a_graph in [no_self_yeast_g,no_self_ecoli_g,no_self_mouse_g,no_self_fbego_g,no_self_bitc_g,no_self_pydep_g]:\n",
    "    gt.remove_self_loops(a_graph)"
   ]
  },
  {
   "cell_type": "code",
   "execution_count": 93,
   "metadata": {},
   "outputs": [],
   "source": [
    "plt.switch_backend(\"cairo\")"
   ]
  },
  {
   "cell_type": "code",
   "execution_count": 41,
   "metadata": {},
   "outputs": [],
   "source": [
    "ems = gt.motifs(no_self_yeast_g,3,return_maps=True)"
   ]
  },
  {
   "cell_type": "code",
   "execution_count": 101,
   "metadata": {},
   "outputs": [],
   "source": [
    "n_motifs = len(ems[0])\n",
    "base = math.ceil(math.sqrt(n_motifs))\n",
    "height = math.floor(n_motifs/base)"
   ]
  },
  {
   "cell_type": "code",
   "execution_count": 111,
   "metadata": {},
   "outputs": [],
   "source": [
    "fig, ax = plt.subplots(base, base, figsize=(20, 20))"
   ]
  },
  {
   "cell_type": "code",
   "execution_count": 118,
   "metadata": {},
   "outputs": [
    {
     "name": "stderr",
     "output_type": "stream",
     "text": [
      "/Users/giovanni/miniforge3/envs/gt/lib/python3.11/site-packages/graph_tool/draw/cairo_draw.py:503: UserWarning: Unknown attribute: size\n",
      "  warnings.warn(\"Unknown attribute: \" + str(k), UserWarning)\n"
     ]
    }
   ],
   "source": [
    "for i,motif in enumerate(ems[0],1):\n",
    "    # print(f\"m{i}, #{ems[1][i-1]}\")\n",
    "    try:\n",
    "        y = ((i-1) % base)\n",
    "        x = math.floor((i-1)/base)\n",
    "        ax[x,y].set_title(f\"m{i}, #{ems[1][i-1]}\")\n",
    "        gt.graph_draw(motif,vertex_size=0.01,edge_size=0.01,mplfig=ax[x,y],nodesfirst=True)\n",
    "    except IndexError:\n",
    "        print(i,x,y)\n",
    "    "
   ]
  },
  {
   "cell_type": "code",
   "execution_count": 117,
   "metadata": {},
   "outputs": [],
   "source": [
    "fig.savefig(\"yay.svg\")"
   ]
  },
  {
   "cell_type": "code",
   "execution_count": 35,
   "metadata": {},
   "outputs": [
    {
     "name": "stdout",
     "output_type": "stream",
     "text": [
      "m1, #20215\n"
     ]
    },
    {
     "data": {
      "image/png": "[encoded data removed]",
      "text/plain": [
       "<IPython.core.display.Image object>"
      ]
     },
     "metadata": {
      "image/png": {
       "height": 24,
       "width": 25
      }
     },
     "output_type": "display_data"
    },
    {
     "name": "stdout",
     "output_type": "stream",
     "text": [
      "m2, #1467\n"
     ]
    },
    {
     "data": {
      "image/png": "[encoded data removed]",
      "text/plain": [
       "<IPython.core.display.Image object>"
      ]
     },
     "metadata": {
      "image/png": {
       "height": 12,
       "width": 25
      }
     },
     "output_type": "display_data"
    },
    {
     "name": "stdout",
     "output_type": "stream",
     "text": [
      "m3, #112\n"
     ]
    },
    {
     "data": {
      "image/png": "[encoded data removed]",
      "text/plain": [
       "<IPython.core.display.Image object>"
      ]
     },
     "metadata": {
      "image/png": {
       "height": 25,
       "width": 24
      }
     },
     "output_type": "display_data"
    },
    {
     "name": "stdout",
     "output_type": "stream",
     "text": [
      "m4, #637\n"
     ]
    },
    {
     "data": {
      "image/png": "[encoded data removed]",
      "text/plain": [
       "<IPython.core.display.Image object>"
      ]
     },
     "metadata": {
      "image/png": {
       "height": 7,
       "width": 25
      }
     },
     "output_type": "display_data"
    },
    {
     "name": "stdout",
     "output_type": "stream",
     "text": [
      "m5, #10\n"
     ]
    },
    {
     "data": {
      "image/png": "[encoded data removed]",
      "text/plain": [
       "<IPython.core.display.Image object>"
      ]
     },
     "metadata": {
      "image/png": {
       "height": 22,
       "width": 25
      }
     },
     "output_type": "display_data"
    },
    {
     "name": "stdout",
     "output_type": "stream",
     "text": [
      "m6, #4\n"
     ]
    },
    {
     "data": {
      "image/png": "[encoded data removed]",
      "text/plain": [
       "<IPython.core.display.Image object>"
      ]
     },
     "metadata": {
      "image/png": {
       "height": 25,
       "width": 24
      }
     },
     "output_type": "display_data"
    },
    {
     "name": "stdout",
     "output_type": "stream",
     "text": [
      "m7, #5\n"
     ]
    },
    {
     "data": {
      "image/png": "[encoded data removed]",
      "text/plain": [
       "<IPython.core.display.Image object>"
      ]
     },
     "metadata": {
      "image/png": {
       "height": 25,
       "width": 12
      }
     },
     "output_type": "display_data"
    },
    {
     "name": "stdout",
     "output_type": "stream",
     "text": [
      "m8, #7\n"
     ]
    },
    {
     "data": {
      "image/png": "[encoded data removed]",
      "text/plain": [
       "<IPython.core.display.Image object>"
      ]
     },
     "metadata": {
      "image/png": {
       "height": 25,
       "width": 17
      }
     },
     "output_type": "display_data"
    },
    {
     "name": "stdout",
     "output_type": "stream",
     "text": [
      "m9, #90\n"
     ]
    },
    {
     "data": {
      "image/png": "[encoded data removed]",
      "text/plain": [
       "<IPython.core.display.Image object>"
      ]
     },
     "metadata": {
      "image/png": {
       "height": 25,
       "width": 14
      }
     },
     "output_type": "display_data"
    },
    {
     "name": "stdout",
     "output_type": "stream",
     "text": [
      "m10, #18\n"
     ]
    },
    {
     "data": {
      "image/png": "[encoded data removed]",
      "text/plain": [
       "<IPython.core.display.Image object>"
      ]
     },
     "metadata": {
      "image/png": {
       "height": 25,
       "width": 24
      }
     },
     "output_type": "display_data"
    },
    {
     "name": "stdout",
     "output_type": "stream",
     "text": [
      "m11, #30\n"
     ]
    },
    {
     "data": {
      "image/png": "[encoded data removed]",
      "text/plain": [
       "<IPython.core.display.Image object>"
      ]
     },
     "metadata": {
      "image/png": {
       "height": 25,
       "width": 25
      }
     },
     "output_type": "display_data"
    },
    {
     "name": "stdout",
     "output_type": "stream",
     "text": [
      "m12, #2\n"
     ]
    },
    {
     "data": {
      "image/png": "[encoded data removed]",
      "text/plain": [
       "<IPython.core.display.Image object>"
      ]
     },
     "metadata": {
      "image/png": {
       "height": 25,
       "width": 13
      }
     },
     "output_type": "display_data"
    },
    {
     "name": "stdout",
     "output_type": "stream",
     "text": [
      "m13, #2\n"
     ]
    },
    {
     "data": {
      "image/png": "[encoded data removed]",
      "text/plain": [
       "<IPython.core.display.Image object>"
      ]
     },
     "metadata": {
      "image/png": {
       "height": 24,
       "width": 25
      }
     },
     "output_type": "display_data"
    },
    {
     "name": "stdout",
     "output_type": "stream",
     "text": [
      "m14, #2\n"
     ]
    },
    {
     "data": {
      "image/png": "[encoded data removed]",
      "text/plain": [
       "<IPython.core.display.Image object>"
      ]
     },
     "metadata": {
      "image/png": {
       "height": 25,
       "width": 23
      }
     },
     "output_type": "display_data"
    }
   ],
   "source": [
    "ems4 = gt.motifs(no_self_mouse_g,4)\n",
    "for i,motif in enumerate(ems4[0],1):\n",
    "    print(f\"m{i}, #{ems4[1][i-1]}\")\n",
    "    gt.graph_draw(motif,output_size=(25,25))"
   ]
  },
  {
   "cell_type": "code",
   "execution_count": 40,
   "metadata": {},
   "outputs": [
    {
     "name": "stdout",
     "output_type": "stream",
     "text": [
      "m1, #211.10661245873942\n"
     ]
    },
    {
     "data": {
      "image/png": "[encoded data removed]",
      "text/plain": [
       "<IPython.core.display.Image object>"
      ]
     },
     "metadata": {
      "image/png": {
       "height": 15,
       "width": 25
      }
     },
     "output_type": "display_data"
    },
    {
     "name": "stdout",
     "output_type": "stream",
     "text": [
      "m2, #-7.916722574804139\n"
     ]
    },
    {
     "data": {
      "image/png": "[encoded data removed]",
      "text/plain": [
       "<IPython.core.display.Image object>"
      ]
     },
     "metadata": {
      "image/png": {
       "height": 25,
       "width": 8
      }
     },
     "output_type": "display_data"
    },
    {
     "name": "stdout",
     "output_type": "stream",
     "text": [
      "m3, #-13.346047512248605\n"
     ]
    },
    {
     "data": {
      "image/png": "[encoded data removed]",
      "text/plain": [
       "<IPython.core.display.Image object>"
      ]
     },
     "metadata": {
      "image/png": {
       "height": 25,
       "width": 23
      }
     },
     "output_type": "display_data"
    },
    {
     "name": "stdout",
     "output_type": "stream",
     "text": [
      "m4, #2.4661055033442834\n"
     ]
    },
    {
     "data": {
      "image/png": "[encoded data removed]",
      "text/plain": [
       "<IPython.core.display.Image object>"
      ]
     },
     "metadata": {
      "image/png": {
       "height": 25,
       "width": 24
      }
     },
     "output_type": "display_data"
    },
    {
     "name": "stdout",
     "output_type": "stream",
     "text": [
      "m5, #-0.6400901211577439\n"
     ]
    },
    {
     "data": {
      "image/png": "[encoded data removed]",
      "text/plain": [
       "<IPython.core.display.Image object>"
      ]
     },
     "metadata": {
      "image/png": {
       "height": 25,
       "width": 22
      }
     },
     "output_type": "display_data"
    },
    {
     "name": "stdout",
     "output_type": "stream",
     "text": [
      "m6, #-0.6098671156015415\n"
     ]
    },
    {
     "data": {
      "image/png": "[encoded data removed]",
      "text/plain": [
       "<IPython.core.display.Image object>"
      ]
     },
     "metadata": {
      "image/png": {
       "height": 25,
       "width": 10
      }
     },
     "output_type": "display_data"
    },
    {
     "name": "stdout",
     "output_type": "stream",
     "text": [
      "m7, #-0.35\n"
     ]
    },
    {
     "data": {
      "image/png": "[encoded data removed]",
      "text/plain": [
       "<IPython.core.display.Image object>"
      ]
     },
     "metadata": {
      "image/png": {
       "height": 25,
       "width": 25
      }
     },
     "output_type": "display_data"
    }
   ],
   "source": [
    "ems4 = gt.motif_significance(no_self_mouse_g,3,shuffle_model=\"erdos\")\n",
    "for i,motif in enumerate(ems4[0],1):\n",
    "    print(f\"m{i}, #{ems4[1][i-1]}\")\n",
    "    gt.graph_draw(motif,output_size=(25,25))"
   ]
  },
  {
   "cell_type": "code",
   "execution_count": null,
   "metadata": {},
   "outputs": [],
   "source": []
  }
 ],
 "metadata": {
  "kernelspec": {
   "display_name": "Python 3.11.0 ('gt')",
   "language": "python",
   "name": "python3"
  },
  "language_info": {
   "codemirror_mode": {
    "name": "ipython",
    "version": 3
   },
   "file_extension": ".py",
   "mimetype": "text/x-python",
   "name": "python",
   "nbconvert_exporter": "python",
   "pygments_lexer": "ipython3",
   "version": "3.11.0"
  },
  "orig_nbformat": 4,
  "vscode": {
   "interpreter": {
    "hash": "f00788ec141297216e3301e0fe40ddab4a8690b3b7548ea1689717682cc11016"
   }
  }
 },
 "nbformat": 4,
 "nbformat_minor": 2
}
