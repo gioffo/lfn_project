{
 "cells": [
  {
   "cell_type": "code",
   "execution_count": 4,
   "metadata": {},
   "outputs": [],
   "source": [
    "import networkx as nx\n",
    "import graph_tool.all as gt"
   ]
  },
  {
   "cell_type": "markdown",
   "metadata": {},
   "source": [
    "## Preprocessing of datasets\n",
    "Datasets are to be processed to conform to a single standard."
   ]
  },
  {
   "cell_type": "code",
   "execution_count": 6,
   "metadata": {},
   "outputs": [],
   "source": [
    "G = nx.read_adjlist(path=\"data/YRN.txt\",delimiter=\"\\t\",nodetype=str,create_using=nx.DiGraph)\n",
    "nx.write_graphml(G,path=\"data/yeast8k.graphml\")"
   ]
  },
  {
   "cell_type": "code",
   "execution_count": 7,
   "metadata": {},
   "outputs": [],
   "source": [
    "g = gt.load_graph(file_name=\"data/yeast8k.graphml\")"
   ]
  },
  {
   "cell_type": "code",
   "execution_count": 8,
   "metadata": {},
   "outputs": [],
   "source": [
    "ems = gt.motifs(g,3,return_maps=True)"
   ]
  },
  {
   "cell_type": "code",
   "execution_count": 9,
   "metadata": {},
   "outputs": [
    {
     "name": "stdout",
     "output_type": "stream",
     "text": [
      "[<Graph object, directed, with 3 vertices and 2 edges, at 0x1600bdf90>, <Graph object, directed, with 3 vertices and 2 edges, at 0x1600af750>, <Graph object, directed, with 3 vertices and 2 edges, at 0x1600aff90>, <Graph object, directed, with 3 vertices and 3 edges, at 0x1600ae750>, <Graph object, directed, with 3 vertices and 3 edges, at 0x1600afd50>, <Graph object, directed, with 3 vertices and 3 edges, at 0x1600af710>, <Graph object, directed, with 3 vertices and 3 edges, at 0x1600ae990>, <Graph object, directed, with 3 vertices and 3 edges, at 0x1600ae510>, <Graph object, directed, with 3 vertices and 3 edges, at 0x1600ae2d0>, <Graph object, directed, with 3 vertices and 3 edges, at 0x1600af050>, <Graph object, directed, with 3 vertices and 3 edges, at 0x1600afa90>, <Graph object, directed, with 3 vertices and 3 edges, at 0x1600aedd0>, <Graph object, directed, with 3 vertices and 4 edges, at 0x1600ade50>, <Graph object, directed, with 3 vertices and 4 edges, at 0x1600ac710>, <Graph object, directed, with 3 vertices and 4 edges, at 0x1600b1910>, <Graph object, directed, with 3 vertices and 4 edges, at 0x1600adc10>, <Graph object, directed, with 3 vertices and 4 edges, at 0x1600aef10>, <Graph object, directed, with 3 vertices and 4 edges, at 0x1600ac9d0>, <Graph object, directed, with 3 vertices and 4 edges, at 0x1600ac190>, <Graph object, directed, with 3 vertices and 4 edges, at 0x1600af390>, <Graph object, directed, with 3 vertices and 4 edges, at 0x1600ad550>, <Graph object, directed, with 3 vertices and 4 edges, at 0x1600b0e50>, <Graph object, directed, with 3 vertices and 4 edges, at 0x1600ad310>, <Graph object, directed, with 3 vertices and 4 edges, at 0x1600b3ed0>, <Graph object, directed, with 3 vertices and 4 edges, at 0x1600b1150>, <Graph object, directed, with 3 vertices and 4 edges, at 0x1600ad9d0>, <Graph object, directed, with 3 vertices and 4 edges, at 0x1600af810>, <Graph object, directed, with 3 vertices and 5 edges, at 0x1600ad090>, <Graph object, directed, with 3 vertices and 5 edges, at 0x1600accd0>, <Graph object, directed, with 3 vertices and 5 edges, at 0x1600b2e90>, <Graph object, directed, with 3 vertices and 5 edges, at 0x1600ae090>, <Graph object, directed, with 3 vertices and 5 edges, at 0x1600b21d0>, <Graph object, directed, with 3 vertices and 5 edges, at 0x1600ad790>, <Graph object, directed, with 3 vertices and 5 edges, at 0x1600b0a50>, <Graph object, directed, with 3 vertices and 5 edges, at 0x1600b1350>, <Graph object, directed, with 3 vertices and 5 edges, at 0x1600b2b50>, <Graph object, directed, with 3 vertices and 5 edges, at 0x1600b1410>, <Graph object, directed, with 3 vertices and 5 edges, at 0x1600b2d50>, <Graph object, directed, with 3 vertices and 5 edges, at 0x1600b2590>, <Graph object, directed, with 3 vertices and 5 edges, at 0x1600b3750>, <Graph object, directed, with 3 vertices and 6 edges, at 0x1600ac450>, <Graph object, directed, with 3 vertices and 6 edges, at 0x1600b36d0>, <Graph object, directed, with 3 vertices and 6 edges, at 0x1600b3990>, <Graph object, directed, with 3 vertices and 6 edges, at 0x1600b0150>, <Graph object, directed, with 3 vertices and 6 edges, at 0x1600b3550>, <Graph object, directed, with 3 vertices and 6 edges, at 0x1600b1c50>, <Graph object, directed, with 3 vertices and 6 edges, at 0x1600b2410>, <Graph object, directed, with 3 vertices and 7 edges, at 0x1600b1cd0>, <Graph object, directed, with 3 vertices and 7 edges, at 0x1600b0890>]\n"
     ]
    }
   ],
   "source": [
    "print(ems[0])"
   ]
  },
  {
   "cell_type": "code",
   "execution_count": null,
   "metadata": {},
   "outputs": [],
   "source": []
  }
 ],
 "metadata": {
  "kernelspec": {
   "display_name": "Python 3.11.0 ('gt')",
   "language": "python",
   "name": "python3"
  },
  "language_info": {
   "codemirror_mode": {
    "name": "ipython",
    "version": 3
   },
   "file_extension": ".py",
   "mimetype": "text/x-python",
   "name": "python",
   "nbconvert_exporter": "python",
   "pygments_lexer": "ipython3",
   "version": "3.11.0"
  },
  "orig_nbformat": 4,
  "vscode": {
   "interpreter": {
    "hash": "f00788ec141297216e3301e0fe40ddab4a8690b3b7548ea1689717682cc11016"
   }
  }
 },
 "nbformat": 4,
 "nbformat_minor": 2
}
