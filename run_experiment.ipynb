{
 "cells": [
  {
   "cell_type": "code",
   "execution_count": 1,
   "metadata": {},
   "outputs": [],
   "source": [
    "import graph_tool.all as gt\n",
    "import networkx as nx\n",
    "import matplotlib.pyplot as plt\n",
    "import math\n",
    "import random\n",
    "import pickle\n",
    "import datetime\n",
    "random.seed(2022)\n",
    "gt.openmp_set_schedule(\"auto\")"
   ]
  },
  {
   "cell_type": "code",
   "execution_count": 2,
   "metadata": {},
   "outputs": [],
   "source": [
    "data_dir = \"data/\"\n",
    "experiment_dir = \"experiment/\"\n",
    "data_filenames = [\"mouse_vc\",\"ecoli2k\",\"yeast8k\",\"bc\",\"fbego2\",\"pydep2\"]\n",
    "data_filenames = [\"bc\",\"fbego2\",\"pydep2\"]\n",
    "names = [\"Mouse\",\"E. Coli\", \"Yeast\", \"Bitcoin\", \"Facebook\",\"Python\"]\n",
    "shuffle_names = [\"erdos\",\"configuration\"]\n",
    "shuffle_names = [\"configuration\"]"
   ]
  },
  {
   "cell_type": "code",
   "execution_count": 3,
   "metadata": {},
   "outputs": [
    {
     "name": "stdout",
     "output_type": "stream",
     "text": [
      "start bc\n",
      "start in-loop bc\n",
      "end bc-configuration\n",
      "start fbego2\n",
      "start in-loop fbego2\n",
      "end fbego2-configuration\n",
      "start pydep2\n",
      "start in-loop pydep2\n",
      "end pydep2-configuration\n"
     ]
    }
   ],
   "source": [
    "for fname in data_filenames:\n",
    "    now = datetime.datetime.now()\n",
    "    stamp = f\"{'{:02d}'.format(now.day)}{'{:02d}'.format(now.month)}_{'{:02d}'.format(now.hour)}{'{:02d}'.format(now.minute)}\"\n",
    "\n",
    "    print(f\"start {fname}\")\n",
    "\n",
    "    motif_size = 3\n",
    "    in_path = f\"{data_dir}{fname}.graphml\"\n",
    "    out_name = f\"{experiment_dir}{fname}-{motif_size}\"\n",
    "\n",
    "    graph = gt.load_graph(in_path)\n",
    "    gt.remove_self_loops(graph)\n",
    "\n",
    "    for sname in shuffle_names:\n",
    "        print(f\"start in-loop {fname}\")\n",
    "        res = gt.motif_significance(graph,motif_size,full_output=True,shuffle_model=sname)\n",
    "        out_path = f\"{out_name}-{sname}--{stamp}.pickle\"\n",
    "        with open(out_path,mode='wb') as out:\n",
    "            pickle.dump(res,out)\n",
    "        print(f\"end {fname}-{sname}\")\n",
    "    "
   ]
  }
 ],
 "metadata": {
  "kernelspec": {
   "display_name": "gt",
   "language": "python",
   "name": "python3"
  },
  "language_info": {
   "codemirror_mode": {
    "name": "ipython",
    "version": 3
   },
   "file_extension": ".py",
   "mimetype": "text/x-python",
   "name": "python",
   "nbconvert_exporter": "python",
   "pygments_lexer": "ipython3",
   "version": "3.11.0"
  },
  "orig_nbformat": 4,
  "vscode": {
   "interpreter": {
    "hash": "84a71a94c1aab229fd187cac0111abf276eb2a4153fb9fe1441afb8de65caa9c"
   }
  }
 },
 "nbformat": 4,
 "nbformat_minor": 2
}
