{
 "cells": [
  {
   "cell_type": "code",
   "execution_count": null,
   "metadata": {},
   "outputs": [],
   "source": [
    "import graph_tool.all as gt\n",
    "import networkx as nx\n",
    "import matplotlib.pyplot as plt\n",
    "import math\n",
    "import random\n",
    "import pickle\n",
    "import datetime\n",
    "import numpy as np\n",
    "import re\n",
    "import glob\n",
    "random.seed(2022)\n",
    "gt.openmp_set_schedule(\"auto\")"
   ]
  },
  {
   "cell_type": "code",
   "execution_count": null,
   "metadata": {},
   "outputs": [],
   "source": [
    "data_dir = \"data/\"\n",
    "experiment_dir = \"experiment/\"\n",
    "exp_shuffles = \"exp_shuffles/\"\n",
    "data_filenames = [\"mouse_vc\",\"ecoli2k\",\"yeast8k\",\"bc\",\"fbego2\",\"pydep2\"]\n",
    "data_filenames_big = [\"bc\",\"fbego2\",\"pydep2\"]\n",
    "names = [\"Mouse\",\"E. Coli\", \"Yeast\", \"Bitcoin\", \"Facebook\",\"Python\"]\n",
    "shuffle_names = [\"erdos\",\"configuration\"]"
   ]
  },
  {
   "attachments": {},
   "cell_type": "markdown",
   "metadata": {},
   "source": [
    "### Directed Graphs"
   ]
  },
  {
   "cell_type": "code",
   "execution_count": null,
   "metadata": {},
   "outputs": [],
   "source": [
    "# K = 3\n",
    "for fname in data_filenames:\n",
    "    now = datetime.datetime.now()\n",
    "    stamp = f\"{'{:02d}'.format(now.day)}{'{:02d}'.format(now.month)}_{'{:02d}'.format(now.hour)}{'{:02d}'.format(now.minute)}\"\n",
    "\n",
    "    print(f\"{datetime.datetime.now()}  :start {fname}\")\n",
    "\n",
    "    motif_size = 3\n",
    "    in_path = f\"{data_dir}{fname}.graphml\"\n",
    "    out_name = f\"{experiment_dir}{fname}-{motif_size}\"\n",
    "\n",
    "    graph = gt.load_graph(in_path)\n",
    "    gt.remove_self_loops(graph)\n",
    "\n",
    "    for sname in shuffle_names:\n",
    "        print(f\"{datetime.datetime.now()}  :start in-loop {fname}\")\n",
    "        res = gt.motif_significance(graph,motif_size,full_output=True,shuffle_model=sname)\n",
    "        out_path = f\"{out_name}-{sname}--{stamp}.pickle\"\n",
    "        with open(out_path,mode='wb') as out:\n",
    "            pickle.dump(res,out)\n",
    "        print(f\"{datetime.datetime.now()}  :end {fname}-{sname}\")\n",
    "    "
   ]
  },
  {
   "cell_type": "code",
   "execution_count": null,
   "metadata": {},
   "outputs": [],
   "source": [
    "# K = 4\n",
    "skip_big = True\n",
    "for fname in data_filenames:\n",
    "    if skip_big and fname in data_filenames_big:\n",
    "        continue\n",
    "    now = datetime.datetime.now()\n",
    "    stamp = f\"{'{:02d}'.format(now.day)}{'{:02d}'.format(now.month)}_{'{:02d}'.format(now.hour)}{'{:02d}'.format(now.minute)}\"\n",
    "\n",
    "    print(f\"{datetime.datetime.now()}  :start {fname}\")\n",
    "\n",
    "    motif_size = 4\n",
    "    in_path = f\"{data_dir}{fname}.graphml\"\n",
    "    out_name = f\"{experiment_dir}{fname}-{motif_size}\"\n",
    "\n",
    "    graph = gt.load_graph(in_path)\n",
    "    gt.remove_self_loops(graph)\n",
    "\n",
    "    for sname in shuffle_names:\n",
    "        print(f\"{datetime.datetime.now()}  :start in-loop {fname}\")\n",
    "        res = gt.motif_significance(graph,motif_size,full_output=True,shuffle_model=sname)\n",
    "        out_path = f\"{out_name}-{sname}--{stamp}.pickle\"\n",
    "        with open(out_path,mode='wb') as out:\n",
    "            pickle.dump(res,out)\n",
    "        print(f\"{datetime.datetime.now()}  :end {fname}-{sname}\")\n",
    "    "
   ]
  },
  {
   "attachments": {},
   "cell_type": "markdown",
   "metadata": {},
   "source": [
    "### Undirected Graphs"
   ]
  },
  {
   "cell_type": "code",
   "execution_count": null,
   "metadata": {},
   "outputs": [],
   "source": [
    "for fname in data_filenames:\n",
    "    now = datetime.datetime.now()\n",
    "    stamp = f\"{'{:02d}'.format(now.day)}{'{:02d}'.format(now.month)}_{'{:02d}'.format(now.hour)}{'{:02d}'.format(now.minute)}\"\n",
    "\n",
    "    print(f\"{datetime.datetime.now()}  :start {fname}\")\n",
    "\n",
    "    motif_size = 3\n",
    "    in_path = f\"{data_dir}{fname}.graphml\"\n",
    "    out_name = f\"{experiment_dir}{fname}-{motif_size}\"\n",
    "\n",
    "    graph = gt.load_graph(in_path)\n",
    "    gt.remove_self_loops(graph)\n",
    "    graph.set_directed(False)\n",
    "    gt.remove_parallel_edges(graph)\n",
    "\n",
    "    for sname in shuffle_names:\n",
    "        print(f\"{datetime.datetime.now()}  :start in-loop {fname}\")\n",
    "        res = gt.motif_significance(graph,motif_size,full_output=True,shuffle_model=sname)\n",
    "        out_path = f\"{out_name}-{sname}--{stamp}-UND.pickle\"\n",
    "        with open(out_path,mode='wb') as out:\n",
    "            pickle.dump(res,out)\n",
    "        print(f\"{datetime.datetime.now()}  :end {fname}-{sname}\")\n",
    "    "
   ]
  }
 ],
 "metadata": {
  "kernelspec": {
   "display_name": "gt",
   "language": "python",
   "name": "python3"
  },
  "language_info": {
   "codemirror_mode": {
    "name": "ipython",
    "version": 3
   },
   "file_extension": ".py",
   "mimetype": "text/x-python",
   "name": "python",
   "nbconvert_exporter": "python",
   "pygments_lexer": "ipython3",
   "version": "3.11.0"
  },
  "orig_nbformat": 4,
  "vscode": {
   "interpreter": {
    "hash": "f00788ec141297216e3301e0fe40ddab4a8690b3b7548ea1689717682cc11016"
   }
  }
 },
 "nbformat": 4,
 "nbformat_minor": 2
}
